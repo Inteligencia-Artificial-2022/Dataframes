{
 "cells": [
  {
   "cell_type": "code",
   "execution_count": 1,
   "id": "88da4b84",
   "metadata": {},
   "outputs": [],
   "source": [
    "import pandas as pd\n",
    "\n",
    "#Lectura de modelos de datos.\n",
    "df_alumnos = pd.read_csv(\"../data_sources/alumnos_ds.csv\", sep=\";\")\n",
    "df_asignaturas = pd.read_csv(\"../data_sources/asignaturas_ds.csv\", sep =\";\")\n",
    "df_carreras = pd.read_csv(\"../data_sources/carreras_ds.csv\", sep =\";\")\n",
    "df_catedraticos = pd.read_csv(\"../data_sources/catedraticos_ds.csv\", sep =\";\")\n",
    "df_departamentos = pd.read_csv(\"../data_sources/departamentos_ds.csv\", sep =\";\")\n",
    "df_tiempo = pd.read_csv(\"../data_sources/tiempo_ds.csv\", sep =\";\")\n",
    "df_rendimiento = pd.read_json(\"../data_sources/rendimiento.json\", orient='split')\n",
    "\n",
    "#df_rendimiento\n",
    "#df_alumnos\n"
   ]
  },
  {
   "cell_type": "code",
   "execution_count": 2,
   "id": "53447ec5",
   "metadata": {},
   "outputs": [],
   "source": [
    "#merge a la data relacionada con asignaturas (segun modelo)\n",
    "df_new_subjects = pd.merge(df_asignaturas, df_departamentos, on = 'id_departamento')\n",
    "#df_new_subjects"
   ]
  },
  {
   "cell_type": "code",
   "execution_count": 3,
   "id": "b373d3f2",
   "metadata": {},
   "outputs": [],
   "source": [
    "#merge a la data relacionada con alumnos (segun modelo)\n",
    "df_new_students = pd.merge(df_alumnos, df_carreras, on = 'id_carrera')\n",
    "#df_new_students"
   ]
  },
  {
   "cell_type": "code",
   "execution_count": 4,
   "id": "a64eeb8b",
   "metadata": {},
   "outputs": [],
   "source": [
    "#merge data para hacer un solo dataframe\n",
    "df_new_data = df_rendimiento.merge(df_tiempo, on = 'fecha_registro').merge(df_catedraticos, on = 'dni_catedratico').merge(df_new_subjects, on = 'id_asignatura').merge(df_new_students, on = 'dni_alumno')\n",
    "#df_new_data"
   ]
  },
  {
   "cell_type": "code",
   "execution_count": 5,
   "id": "4b387a76",
   "metadata": {},
   "outputs": [],
   "source": [
    "#Guardar el nuevo dataframe en un csv\n",
    "df_new_data.to_csv('../data_sources/data_unida.csv', index = False, sep =\";\")"
   ]
  }
 ],
 "metadata": {
  "kernelspec": {
   "display_name": "Python 3 (ipykernel)",
   "language": "python",
   "name": "python3"
  },
  "language_info": {
   "codemirror_mode": {
    "name": "ipython",
    "version": 3
   },
   "file_extension": ".py",
   "mimetype": "text/x-python",
   "name": "python",
   "nbconvert_exporter": "python",
   "pygments_lexer": "ipython3",
   "version": "3.9.12"
  }
 },
 "nbformat": 4,
 "nbformat_minor": 5
}
