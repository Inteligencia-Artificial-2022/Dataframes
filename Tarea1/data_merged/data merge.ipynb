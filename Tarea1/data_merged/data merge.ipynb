{
 "cells": [
  {
   "cell_type": "code",
   "execution_count": 1,
   "id": "88da4b84",
   "metadata": {},
   "outputs": [],
   "source": [
    "import pandas as pd\n",
    "\n",
    "#Lectura de modelos de datos.\n",
    "df_alumnos = pd.read_csv(\"../data_sources/alumnos_ds.csv\", sep=\";\")\n",
    "df_asignaturas = pd.read_csv(\"../data_sources/asignaturas_ds.csv\", sep =\";\")\n",
    "df_carreras = pd.read_csv(\"../data_sources/carreras_ds.csv\", sep =\";\")\n",
    "df_catedraticos = pd.read_csv(\"../data_sources/catedraticos_ds.csv\", sep =\";\")\n",
    "df_departamentos = pd.read_csv(\"../data_sources/departamentos_ds.csv\", sep =\";\")\n",
    "df_tiempo = pd.read_csv(\"../data_sources/tiempo_ds.csv\", sep =\";\")\n",
    "df_rendimiento = pd.read_json(\"../data_sources/rendimiento.json\", orient='split')\n",
    "\n",
    "#df_rendimiento\n",
    "#df_alumnos\n"
   ]
  },
  {
   "cell_type": "code",
   "execution_count": 2,
   "id": "53447ec5",
   "metadata": {},
   "outputs": [],
   "source": [
    "#merge a la data relacionada con asignaturas (segun modelo)\n",
    "df_new_subjects = pd.merge(df_asignaturas, df_departamentos, on = 'id_departamento')\n",
    "#df_new_subjects"
   ]
  },
  {
   "cell_type": "code",
   "execution_count": 3,
   "id": "b373d3f2",
   "metadata": {},
   "outputs": [],
   "source": [
    "#merge a la data relacionada con alumnos (segun modelo)\n",
    "df_new_students = pd.merge(df_alumnos, df_carreras, on = 'id_carrera')\n",
    "#df_new_students"
   ]
  },
  {
   "cell_type": "code",
   "execution_count": 4,
   "id": "a64eeb8b",
   "metadata": {},
   "outputs": [],
   "source": [
    "#merge data para hacer un solo dataframe\n",
    "df_new_data = df_rendimiento.merge(df_tiempo, on = 'fecha_registro').merge(df_catedraticos, on = 'dni_catedratico').merge(df_new_subjects, on = 'id_asignatura').merge(df_new_students, on = 'dni_alumno')\n",
    "#df_new_data"
   ]
  },
  {
   "cell_type": "code",
   "execution_count": 2,
   "id": "4b387a76",
   "metadata": {},
   "outputs": [
    {
     "ename": "NameError",
     "evalue": "name 'df_new_data' is not defined",
     "output_type": "error",
     "traceback": [
      "\u001b[1;31m---------------------------------------------------------------------------\u001b[0m",
      "\u001b[1;31mNameError\u001b[0m                                 Traceback (most recent call last)",
      "Input \u001b[1;32mIn [2]\u001b[0m, in \u001b[0;36m<cell line: 2>\u001b[1;34m()\u001b[0m\n\u001b[0;32m      1\u001b[0m \u001b[38;5;66;03m#Guardar el nuevo dataframe en un csv\u001b[39;00m\n\u001b[1;32m----> 2\u001b[0m \u001b[43mdf_new_data\u001b[49m\u001b[38;5;241m.\u001b[39mto_csv(\u001b[38;5;124m'\u001b[39m\u001b[38;5;124m../data_sources/data_merged.csv\u001b[39m\u001b[38;5;124m'\u001b[39m, index \u001b[38;5;241m=\u001b[39m \u001b[38;5;28;01mFalse\u001b[39;00m, sep \u001b[38;5;241m=\u001b[39m\u001b[38;5;124m\"\u001b[39m\u001b[38;5;124m;\u001b[39m\u001b[38;5;124m\"\u001b[39m)\n",
      "\u001b[1;31mNameError\u001b[0m: name 'df_new_data' is not defined"
     ]
    }
   ],
   "source": [
    "#Guardar el nuevo dataframe en un csv\n",
    "df_new_data.to_csv('../data_sources/data_merged.csv', index = False, sep =\";\")"
   ]
  },
  {
   "cell_type": "code",
   "execution_count": null,
   "id": "8d538882",
   "metadata": {},
   "outputs": [],
   "source": []
  }
 ],
 "metadata": {
  "kernelspec": {
   "display_name": "Python 3 (ipykernel)",
   "language": "python",
   "name": "python3"
  },
  "language_info": {
   "codemirror_mode": {
    "name": "ipython",
    "version": 3
   },
   "file_extension": ".py",
   "mimetype": "text/x-python",
   "name": "python",
   "nbconvert_exporter": "python",
   "pygments_lexer": "ipython3",
   "version": "3.9.12"
  }
 },
 "nbformat": 4,
 "nbformat_minor": 5
}
