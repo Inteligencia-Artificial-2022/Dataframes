{
 "cells": [
  {
   "cell_type": "code",
   "execution_count": 1,
   "id": "fbb805d7",
   "metadata": {},
   "outputs": [],
   "source": [
    "import pandas as pd\n",
    "df_data = pd.read_csv(\"../data_sources/cleaned_data.csv\", sep=\";\")\n",
    "#df_data"
   ]
  },
  {
   "cell_type": "markdown",
   "id": "8bc5c8e1",
   "metadata": {},
   "source": [
    "Haremos la manipulación de la data, para la pregunta #1.\\\n",
    "Pregunta de negocio #1."
   ]
  },
  {
   "cell_type": "code",
   "execution_count": 2,
   "id": "a78336af",
   "metadata": {},
   "outputs": [
    {
     "data": {
      "text/html": [
       "<div>\n",
       "<style scoped>\n",
       "    .dataframe tbody tr th:only-of-type {\n",
       "        vertical-align: middle;\n",
       "    }\n",
       "\n",
       "    .dataframe tbody tr th {\n",
       "        vertical-align: top;\n",
       "    }\n",
       "\n",
       "    .dataframe thead th {\n",
       "        text-align: right;\n",
       "    }\n",
       "</style>\n",
       "<table border=\"1\" class=\"dataframe\">\n",
       "  <thead>\n",
       "    <tr style=\"text-align: right;\">\n",
       "      <th></th>\n",
       "      <th></th>\n",
       "      <th>dni_alumno</th>\n",
       "      <th>alumno</th>\n",
       "      <th>asignatura</th>\n",
       "      <th>departamento</th>\n",
       "      <th>catedratico</th>\n",
       "      <th>periodo</th>\n",
       "      <th>promedio</th>\n",
       "    </tr>\n",
       "    <tr>\n",
       "      <th>carrera</th>\n",
       "      <th>anio</th>\n",
       "      <th></th>\n",
       "      <th></th>\n",
       "      <th></th>\n",
       "      <th></th>\n",
       "      <th></th>\n",
       "      <th></th>\n",
       "      <th></th>\n",
       "    </tr>\n",
       "  </thead>\n",
       "  <tbody>\n",
       "    <tr>\n",
       "      <th rowspan=\"2\" valign=\"top\">Derecho</th>\n",
       "      <th>2020</th>\n",
       "      <td>8675-2005-35773</td>\n",
       "      <td>Bailey Rearden</td>\n",
       "      <td>Derecho Penal</td>\n",
       "      <td>Derecho</td>\n",
       "      <td>Bentley Izon</td>\n",
       "      <td>3</td>\n",
       "      <td>95.1</td>\n",
       "    </tr>\n",
       "    <tr>\n",
       "      <th>2021</th>\n",
       "      <td>9040-1996-91077</td>\n",
       "      <td>Courtnay Rawdall</td>\n",
       "      <td>Derecho Penal</td>\n",
       "      <td>Derecho</td>\n",
       "      <td>Bentley Izon</td>\n",
       "      <td>1</td>\n",
       "      <td>95.0</td>\n",
       "    </tr>\n",
       "    <tr>\n",
       "      <th>Ingenieria Electrica</th>\n",
       "      <th>2020</th>\n",
       "      <td>9780-1995-53373</td>\n",
       "      <td>Ram Sommerville</td>\n",
       "      <td>Programacion I</td>\n",
       "      <td>Matematica</td>\n",
       "      <td>Tan Dowling</td>\n",
       "      <td>3</td>\n",
       "      <td>95.0</td>\n",
       "    </tr>\n",
       "    <tr>\n",
       "      <th>Licenciatura en Matematica</th>\n",
       "      <th>2021</th>\n",
       "      <td>7219-1992-14916</td>\n",
       "      <td>Ganny Caveill</td>\n",
       "      <td>Programacion I</td>\n",
       "      <td>Matematica</td>\n",
       "      <td>Tan Dowling</td>\n",
       "      <td>1</td>\n",
       "      <td>94.0</td>\n",
       "    </tr>\n",
       "  </tbody>\n",
       "</table>\n",
       "</div>"
      ],
      "text/plain": [
       "                                      dni_alumno            alumno  \\\n",
       "carrera                    anio                                      \n",
       "Derecho                    2020  8675-2005-35773    Bailey Rearden   \n",
       "                           2021  9040-1996-91077  Courtnay Rawdall   \n",
       "Ingenieria Electrica       2020  9780-1995-53373   Ram Sommerville   \n",
       "Licenciatura en Matematica 2021  7219-1992-14916     Ganny Caveill   \n",
       "\n",
       "                                     asignatura departamento   catedratico  \\\n",
       "carrera                    anio                                              \n",
       "Derecho                    2020   Derecho Penal      Derecho  Bentley Izon   \n",
       "                           2021   Derecho Penal      Derecho  Bentley Izon   \n",
       "Ingenieria Electrica       2020  Programacion I   Matematica   Tan Dowling   \n",
       "Licenciatura en Matematica 2021  Programacion I   Matematica   Tan Dowling   \n",
       "\n",
       "                                 periodo  promedio  \n",
       "carrera                    anio                     \n",
       "Derecho                    2020        3      95.1  \n",
       "                           2021        1      95.0  \n",
       "Ingenieria Electrica       2020        3      95.0  \n",
       "Licenciatura en Matematica 2021        1      94.0  "
      ]
     },
     "execution_count": 2,
     "metadata": {},
     "output_type": "execute_result"
    }
   ],
   "source": [
    "# ¿Cuál es el mejor promedio de cada carrera durante el año?\n",
    "df_data_Q1 = df_data.loc[:,:].groupby(by = ['carrera','anio']).max()\n",
    "df_data_Q1"
   ]
  },
  {
   "cell_type": "markdown",
   "id": "a917baba",
   "metadata": {},
   "source": [
    "Haremos la manipulación de la data, para la pregunta #2.\\\n",
    "Pregunta de negocio #2."
   ]
  },
  {
   "cell_type": "code",
   "execution_count": 3,
   "id": "a5461afa",
   "metadata": {},
   "outputs": [],
   "source": [
    "# Pregunta de negocio #2 ¿Cuál es el Catedrático con mayor cantidad de reprobados en cada asignatura por periodo de cada año?\n",
    "# Filtramos primero los alumnos reprobados\n",
    "df_data_Q2 = df_data[df_data.promedio < 65]\n",
    "#df_data_Q2"
   ]
  },
  {
   "cell_type": "code",
   "execution_count": 4,
   "id": "3f6fa992",
   "metadata": {},
   "outputs": [],
   "source": [
    "# Limpiamos la data filtrada, eliminando columnas innecesarias\n",
    "df_data_Q2 = df_data_Q2.drop(['dni_alumno','carrera', 'departamento', 'promedio'], axis=1)\n",
    "\n",
    "# La última limpieza, renombrar el campo donde se muestra el resultado\n",
    "df_data_Q2 = df_data_Q2.rename(columns={'alumno':'alumnos reprobados'})"
   ]
  },
  {
   "cell_type": "code",
   "execution_count": 5,
   "id": "b388406f",
   "metadata": {},
   "outputs": [
    {
     "data": {
      "text/html": [
       "<div>\n",
       "<style scoped>\n",
       "    .dataframe tbody tr th:only-of-type {\n",
       "        vertical-align: middle;\n",
       "    }\n",
       "\n",
       "    .dataframe tbody tr th {\n",
       "        vertical-align: top;\n",
       "    }\n",
       "\n",
       "    .dataframe thead th {\n",
       "        text-align: right;\n",
       "    }\n",
       "</style>\n",
       "<table border=\"1\" class=\"dataframe\">\n",
       "  <thead>\n",
       "    <tr style=\"text-align: right;\">\n",
       "      <th></th>\n",
       "      <th></th>\n",
       "      <th></th>\n",
       "      <th></th>\n",
       "      <th>alumnos reprobados</th>\n",
       "    </tr>\n",
       "    <tr>\n",
       "      <th>catedratico</th>\n",
       "      <th>periodo</th>\n",
       "      <th>anio</th>\n",
       "      <th>asignatura</th>\n",
       "      <th></th>\n",
       "    </tr>\n",
       "  </thead>\n",
       "  <tbody>\n",
       "    <tr>\n",
       "      <th rowspan=\"2\" valign=\"top\">Alicea Van Giffen</th>\n",
       "      <th>1</th>\n",
       "      <th>2020</th>\n",
       "      <th>Programacion I</th>\n",
       "      <td>1</td>\n",
       "    </tr>\n",
       "    <tr>\n",
       "      <th>3</th>\n",
       "      <th>2020</th>\n",
       "      <th>Matematica I</th>\n",
       "      <td>2</td>\n",
       "    </tr>\n",
       "    <tr>\n",
       "      <th>Arnold Muffen</th>\n",
       "      <th>1</th>\n",
       "      <th>2020</th>\n",
       "      <th>Matematica I</th>\n",
       "      <td>2</td>\n",
       "    </tr>\n",
       "    <tr>\n",
       "      <th>Tan Dowling</th>\n",
       "      <th>1</th>\n",
       "      <th>2021</th>\n",
       "      <th>Programacion I</th>\n",
       "      <td>1</td>\n",
       "    </tr>\n",
       "  </tbody>\n",
       "</table>\n",
       "</div>"
      ],
      "text/plain": [
       "                                               alumnos reprobados\n",
       "catedratico       periodo anio asignatura                        \n",
       "Alicea Van Giffen 1       2020 Programacion I                   1\n",
       "                  3       2020 Matematica I                     2\n",
       "Arnold Muffen     1       2020 Matematica I                     2\n",
       "Tan Dowling       1       2021 Programacion I                   1"
      ]
     },
     "execution_count": 5,
     "metadata": {},
     "output_type": "execute_result"
    }
   ],
   "source": [
    "# Mostrar el resultado que responde la pregunta\n",
    "df_data_Q2 = df_data_Q2.iloc[:,:].groupby(by = ['catedratico', 'periodo','anio','asignatura']).count()\n",
    "df_data_Q2"
   ]
  },
  {
   "cell_type": "markdown",
   "id": "5229b667",
   "metadata": {},
   "source": [
    "Haremos la manipulación de la data, para la pregunta #3.\\\n",
    "Pregunta de negocio #3."
   ]
  },
  {
   "cell_type": "code",
   "execution_count": 6,
   "id": "e96a487a",
   "metadata": {},
   "outputs": [],
   "source": [
    "# Pregunta de negocio #3 ¿Cuál es la Cantidad de reprobados de cada carrera por periodos en el año?\n",
    "# Filtramos primero los alumnos reprobados\n",
    "df_data_Q3 = df_data[df_data.promedio < 65]\n",
    "#df_f3"
   ]
  },
  {
   "cell_type": "code",
   "execution_count": 7,
   "id": "776eed98",
   "metadata": {},
   "outputs": [],
   "source": [
    "# Limpiamos la data filtrada, eliminando columnas innecesarias\n",
    "df_data_Q3 = df_data_Q3.drop(['dni_alumno','catedratico', 'departamento', 'promedio','asignatura'], axis=1)\n",
    "\n",
    "# La última limpieza, renombrar el campo donde se muestra el resultado\n",
    "df_data_Q3 = df_data_Q3.rename(columns={'alumno':'alumnos reprobados'})"
   ]
  },
  {
   "cell_type": "code",
   "execution_count": 8,
   "id": "69145ec3",
   "metadata": {},
   "outputs": [
    {
     "data": {
      "text/html": [
       "<div>\n",
       "<style scoped>\n",
       "    .dataframe tbody tr th:only-of-type {\n",
       "        vertical-align: middle;\n",
       "    }\n",
       "\n",
       "    .dataframe tbody tr th {\n",
       "        vertical-align: top;\n",
       "    }\n",
       "\n",
       "    .dataframe thead th {\n",
       "        text-align: right;\n",
       "    }\n",
       "</style>\n",
       "<table border=\"1\" class=\"dataframe\">\n",
       "  <thead>\n",
       "    <tr style=\"text-align: right;\">\n",
       "      <th></th>\n",
       "      <th></th>\n",
       "      <th></th>\n",
       "      <th>alumnos reprobados</th>\n",
       "    </tr>\n",
       "    <tr>\n",
       "      <th>carrera</th>\n",
       "      <th>periodo</th>\n",
       "      <th>anio</th>\n",
       "      <th></th>\n",
       "    </tr>\n",
       "  </thead>\n",
       "  <tbody>\n",
       "    <tr>\n",
       "      <th rowspan=\"2\" valign=\"top\">Ingenieria Electrica</th>\n",
       "      <th>1</th>\n",
       "      <th>2020</th>\n",
       "      <td>3</td>\n",
       "    </tr>\n",
       "    <tr>\n",
       "      <th>3</th>\n",
       "      <th>2020</th>\n",
       "      <td>2</td>\n",
       "    </tr>\n",
       "    <tr>\n",
       "      <th>Licenciatura en Matematica</th>\n",
       "      <th>1</th>\n",
       "      <th>2021</th>\n",
       "      <td>1</td>\n",
       "    </tr>\n",
       "  </tbody>\n",
       "</table>\n",
       "</div>"
      ],
      "text/plain": [
       "                                         alumnos reprobados\n",
       "carrera                    periodo anio                    \n",
       "Ingenieria Electrica       1       2020                   3\n",
       "                           3       2020                   2\n",
       "Licenciatura en Matematica 1       2021                   1"
      ]
     },
     "execution_count": 8,
     "metadata": {},
     "output_type": "execute_result"
    }
   ],
   "source": [
    "# Mostrar el resultado que responde la pregunta\n",
    "df_data_Q3 = df_data_Q3.iloc[:,:].groupby(by = ['carrera', 'periodo','anio']).count()\n",
    "df_data_Q3"
   ]
  },
  {
   "cell_type": "code",
   "execution_count": null,
   "id": "59c0de59",
   "metadata": {},
   "outputs": [],
   "source": []
  }
 ],
 "metadata": {
  "kernelspec": {
   "display_name": "Python 3 (ipykernel)",
   "language": "python",
   "name": "python3"
  },
  "language_info": {
   "codemirror_mode": {
    "name": "ipython",
    "version": 3
   },
   "file_extension": ".py",
   "mimetype": "text/x-python",
   "name": "python",
   "nbconvert_exporter": "python",
   "pygments_lexer": "ipython3",
   "version": "3.9.12"
  }
 },
 "nbformat": 4,
 "nbformat_minor": 5
}
